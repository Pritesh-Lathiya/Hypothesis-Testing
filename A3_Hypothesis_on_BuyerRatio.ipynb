{
  "nbformat": 4,
  "nbformat_minor": 0,
  "metadata": {
    "colab": {
      "provenance": [],
      "collapsed_sections": []
    },
    "kernelspec": {
      "name": "python3",
      "display_name": "Python 3"
    },
    "language_info": {
      "name": "python"
    }
  },
  "cells": [
    {
      "cell_type": "code",
      "execution_count": null,
      "metadata": {
        "id": "Aij7ckiiULuc"
      },
      "outputs": [],
      "source": [
        "import pandas as pd\n",
        "import numpy as np\n",
        "from scipy import stats\n",
        "from statsmodels.stats.proportion import proportions_ztest"
      ]
    },
    {
      "cell_type": "markdown",
      "source": [
        "![image.png](data:image/png;base64,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)"
      ],
      "metadata": {
        "id": "6Ff5aDWqUcdG"
      }
    },
    {
      "cell_type": "markdown",
      "source": [
        "#**Problem Statement**\n",
        "\n",
        "---\n",
        "\n"
      ],
      "metadata": {
        "id": "YZNq1Ob4Nrmh"
      }
    },
    {
      "cell_type": "markdown",
      "source": [
        ">Sales of products in four different regions is tabulated for males and females. Find if male-female buyer rations are similar across regions."
      ],
      "metadata": {
        "id": "wULfK63mN2Lq"
      }
    },
    {
      "cell_type": "markdown",
      "source": [
        "# Dataframe - BuyerRatio\n",
        "\n",
        "---\n",
        "\n"
      ],
      "metadata": {
        "id": "OMjKGI_MOlqd"
      }
    },
    {
      "cell_type": "code",
      "source": [
        "df=pd.read_csv(\"/content/BuyerRatio (2).csv\")\n",
        "df.head(5)"
      ],
      "metadata": {
        "colab": {
          "base_uri": "https://localhost:8080/",
          "height": 112
        },
        "id": "DxKuio7AMToh",
        "outputId": "031f597b-4680-4b66-91e6-137fc949475e"
      },
      "execution_count": null,
      "outputs": [
        {
          "output_type": "execute_result",
          "data": {
            "text/plain": [
              "  Observed Values  East  West  North  South\n",
              "0           Males    50   142    131     70\n",
              "1         Females   435  1523   1356    750"
            ],
            "text/html": [
              "\n",
              "  <div id=\"df-11a86fa3-df7a-4f16-8e8b-e7cfe7d1546b\">\n",
              "    <div class=\"colab-df-container\">\n",
              "      <div>\n",
              "<style scoped>\n",
              "    .dataframe tbody tr th:only-of-type {\n",
              "        vertical-align: middle;\n",
              "    }\n",
              "\n",
              "    .dataframe tbody tr th {\n",
              "        vertical-align: top;\n",
              "    }\n",
              "\n",
              "    .dataframe thead th {\n",
              "        text-align: right;\n",
              "    }\n",
              "</style>\n",
              "<table border=\"1\" class=\"dataframe\">\n",
              "  <thead>\n",
              "    <tr style=\"text-align: right;\">\n",
              "      <th></th>\n",
              "      <th>Observed Values</th>\n",
              "      <th>East</th>\n",
              "      <th>West</th>\n",
              "      <th>North</th>\n",
              "      <th>South</th>\n",
              "    </tr>\n",
              "  </thead>\n",
              "  <tbody>\n",
              "    <tr>\n",
              "      <th>0</th>\n",
              "      <td>Males</td>\n",
              "      <td>50</td>\n",
              "      <td>142</td>\n",
              "      <td>131</td>\n",
              "      <td>70</td>\n",
              "    </tr>\n",
              "    <tr>\n",
              "      <th>1</th>\n",
              "      <td>Females</td>\n",
              "      <td>435</td>\n",
              "      <td>1523</td>\n",
              "      <td>1356</td>\n",
              "      <td>750</td>\n",
              "    </tr>\n",
              "  </tbody>\n",
              "</table>\n",
              "</div>\n",
              "      <button class=\"colab-df-convert\" onclick=\"convertToInteractive('df-11a86fa3-df7a-4f16-8e8b-e7cfe7d1546b')\"\n",
              "              title=\"Convert this dataframe to an interactive table.\"\n",
              "              style=\"display:none;\">\n",
              "        \n",
              "  <svg xmlns=\"http://www.w3.org/2000/svg\" height=\"24px\"viewBox=\"0 0 24 24\"\n",
              "       width=\"24px\">\n",
              "    <path d=\"M0 0h24v24H0V0z\" fill=\"none\"/>\n",
              "    <path d=\"M18.56 5.44l.94 2.06.94-2.06 2.06-.94-2.06-.94-.94-2.06-.94 2.06-2.06.94zm-11 1L8.5 8.5l.94-2.06 2.06-.94-2.06-.94L8.5 2.5l-.94 2.06-2.06.94zm10 10l.94 2.06.94-2.06 2.06-.94-2.06-.94-.94-2.06-.94 2.06-2.06.94z\"/><path d=\"M17.41 7.96l-1.37-1.37c-.4-.4-.92-.59-1.43-.59-.52 0-1.04.2-1.43.59L10.3 9.45l-7.72 7.72c-.78.78-.78 2.05 0 2.83L4 21.41c.39.39.9.59 1.41.59.51 0 1.02-.2 1.41-.59l7.78-7.78 2.81-2.81c.8-.78.8-2.07 0-2.86zM5.41 20L4 18.59l7.72-7.72 1.47 1.35L5.41 20z\"/>\n",
              "  </svg>\n",
              "      </button>\n",
              "      \n",
              "  <style>\n",
              "    .colab-df-container {\n",
              "      display:flex;\n",
              "      flex-wrap:wrap;\n",
              "      gap: 12px;\n",
              "    }\n",
              "\n",
              "    .colab-df-convert {\n",
              "      background-color: #E8F0FE;\n",
              "      border: none;\n",
              "      border-radius: 50%;\n",
              "      cursor: pointer;\n",
              "      display: none;\n",
              "      fill: #1967D2;\n",
              "      height: 32px;\n",
              "      padding: 0 0 0 0;\n",
              "      width: 32px;\n",
              "    }\n",
              "\n",
              "    .colab-df-convert:hover {\n",
              "      background-color: #E2EBFA;\n",
              "      box-shadow: 0px 1px 2px rgba(60, 64, 67, 0.3), 0px 1px 3px 1px rgba(60, 64, 67, 0.15);\n",
              "      fill: #174EA6;\n",
              "    }\n",
              "\n",
              "    [theme=dark] .colab-df-convert {\n",
              "      background-color: #3B4455;\n",
              "      fill: #D2E3FC;\n",
              "    }\n",
              "\n",
              "    [theme=dark] .colab-df-convert:hover {\n",
              "      background-color: #434B5C;\n",
              "      box-shadow: 0px 1px 3px 1px rgba(0, 0, 0, 0.15);\n",
              "      filter: drop-shadow(0px 1px 2px rgba(0, 0, 0, 0.3));\n",
              "      fill: #FFFFFF;\n",
              "    }\n",
              "  </style>\n",
              "\n",
              "      <script>\n",
              "        const buttonEl =\n",
              "          document.querySelector('#df-11a86fa3-df7a-4f16-8e8b-e7cfe7d1546b button.colab-df-convert');\n",
              "        buttonEl.style.display =\n",
              "          google.colab.kernel.accessAllowed ? 'block' : 'none';\n",
              "\n",
              "        async function convertToInteractive(key) {\n",
              "          const element = document.querySelector('#df-11a86fa3-df7a-4f16-8e8b-e7cfe7d1546b');\n",
              "          const dataTable =\n",
              "            await google.colab.kernel.invokeFunction('convertToInteractive',\n",
              "                                                     [key], {});\n",
              "          if (!dataTable) return;\n",
              "\n",
              "          const docLinkHtml = 'Like what you see? Visit the ' +\n",
              "            '<a target=\"_blank\" href=https://colab.research.google.com/notebooks/data_table.ipynb>data table notebook</a>'\n",
              "            + ' to learn more about interactive tables.';\n",
              "          element.innerHTML = '';\n",
              "          dataTable['output_type'] = 'display_data';\n",
              "          await google.colab.output.renderOutput(dataTable, element);\n",
              "          const docLink = document.createElement('div');\n",
              "          docLink.innerHTML = docLinkHtml;\n",
              "          element.appendChild(docLink);\n",
              "        }\n",
              "      </script>\n",
              "    </div>\n",
              "  </div>\n",
              "  "
            ]
          },
          "metadata": {},
          "execution_count": 5
        }
      ]
    },
    {
      "cell_type": "code",
      "source": [
        "df.info()"
      ],
      "metadata": {
        "colab": {
          "base_uri": "https://localhost:8080/"
        },
        "id": "wHLmMKEFb0UK",
        "outputId": "7937a44d-e547-4510-ea05-89451fdb4041"
      },
      "execution_count": null,
      "outputs": [
        {
          "output_type": "stream",
          "name": "stdout",
          "text": [
            "<class 'pandas.core.frame.DataFrame'>\n",
            "RangeIndex: 2 entries, 0 to 1\n",
            "Data columns (total 5 columns):\n",
            " #   Column           Non-Null Count  Dtype \n",
            "---  ------           --------------  ----- \n",
            " 0   Observed Values  2 non-null      object\n",
            " 1   East             2 non-null      int64 \n",
            " 2   West             2 non-null      int64 \n",
            " 3   North            2 non-null      int64 \n",
            " 4   South            2 non-null      int64 \n",
            "dtypes: int64(4), object(1)\n",
            "memory usage: 208.0+ bytes\n"
          ]
        }
      ]
    },
    {
      "cell_type": "code",
      "source": [
        "df.shape"
      ],
      "metadata": {
        "colab": {
          "base_uri": "https://localhost:8080/"
        },
        "id": "SHh1aPEhOvgF",
        "outputId": "e0276dbf-1b19-4a9e-ac3b-edcd678c5529"
      },
      "execution_count": null,
      "outputs": [
        {
          "output_type": "execute_result",
          "data": {
            "text/plain": [
              "(2, 5)"
            ]
          },
          "metadata": {},
          "execution_count": 9
        }
      ]
    },
    {
      "cell_type": "markdown",
      "source": [
        "## Chi-Square Test\n",
        "\n",
        "---\n",
        "\n",
        "\n",
        "> H0 : The male-female buyer rations are similar across regions\n",
        "\n",
        "> H1 : The male-female buyer rations are not similar across regions"
      ],
      "metadata": {
        "id": "hVgiY0dhO1vE"
      }
    },
    {
      "cell_type": "code",
      "source": [
        "stats.chi2_contingency([df[\"East\"], df[\"West\"], df[\"North\"], df[\"South\"]])"
      ],
      "metadata": {
        "colab": {
          "base_uri": "https://localhost:8080/"
        },
        "id": "QfjhLQjjpxkX",
        "outputId": "d0eb5821-2585-4a8e-faed-2733efb3fe2b"
      },
      "execution_count": null,
      "outputs": [
        {
          "output_type": "execute_result",
          "data": {
            "text/plain": [
              "(1.5959455386610577,\n",
              " 0.6603094907091882,\n",
              " 3,\n",
              " array([[  42.76531299,  442.23468701],\n",
              "        [ 146.81287862, 1518.18712138],\n",
              "        [ 131.11756787, 1355.88243213],\n",
              "        [  72.30424052,  747.69575948]]))"
            ]
          },
          "metadata": {},
          "execution_count": 8
        }
      ]
    },
    {
      "cell_type": "markdown",
      "source": [
        "Here, P-value 0.660309 is greater than 0.05.so we do not reject the null hypothesis at 5% level of significance and may conclude that the male-female ratio are similar across regions."
      ],
      "metadata": {
        "id": "eqONCrvZrNI5"
      }
    }
  ]
}